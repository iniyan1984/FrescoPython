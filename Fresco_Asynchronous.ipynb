{
  "nbformat": 4,
  "nbformat_minor": 0,
  "metadata": {
    "colab": {
      "name": "Fresco Asynchronous.ipynb",
      "provenance": [],
      "authorship_tag": "ABX9TyOnEDJo4cqaNhHKRrw1lPIs",
      "include_colab_link": true
    },
    "kernelspec": {
      "name": "python3",
      "display_name": "Python 3"
    }
  },
  "cells": [
    {
      "cell_type": "markdown",
      "metadata": {
        "id": "view-in-github",
        "colab_type": "text"
      },
      "source": [
        "<a href=\"https://colab.research.google.com/github/iniyan1984/FrescoPython/blob/main/Fresco_Asynchronous.ipynb\" target=\"_parent\"><img src=\"https://colab.research.google.com/assets/colab-badge.svg\" alt=\"Open In Colab\"/></a>"
      ]
    },
    {
      "cell_type": "code",
      "metadata": {
        "colab": {
          "base_uri": "https://localhost:8080/"
        },
        "id": "sbV1Ye2r55bR",
        "outputId": "8da7d9b4-ade5-48fa-e27e-f7d9dcc1e36b"
      },
      "source": [
        "range(5)"
      ],
      "execution_count": 1,
      "outputs": [
        {
          "output_type": "execute_result",
          "data": {
            "text/plain": [
              "range(0, 5)"
            ]
          },
          "metadata": {
            "tags": []
          },
          "execution_count": 1
        }
      ]
    },
    {
      "cell_type": "code",
      "metadata": {
        "colab": {
          "base_uri": "https://localhost:8080/"
        },
        "id": "4d4Q7NIAUgRQ",
        "outputId": "225d2b9d-e4b6-4514-980f-4ff6c0c939f1"
      },
      "source": [
        "print(list(range(0,20,2)))"
      ],
      "execution_count": 5,
      "outputs": [
        {
          "output_type": "stream",
          "text": [
            "[0, 2, 4, 6, 8, 10, 12, 14, 16, 18]\n"
          ],
          "name": "stdout"
        }
      ]
    },
    {
      "cell_type": "code",
      "metadata": {
        "colab": {
          "base_uri": "https://localhost:8080/"
        },
        "id": "ZUX7AINjUj16",
        "outputId": "bf399f02-ca25-4ab2-8ed1-5e34464f4aa0"
      },
      "source": [
        "print(list(range(-5,5,1)))"
      ],
      "execution_count": 6,
      "outputs": [
        {
          "output_type": "stream",
          "text": [
            "[-5, -4, -3, -2, -1, 0, 1, 2, 3, 4]\n"
          ],
          "name": "stdout"
        }
      ]
    },
    {
      "cell_type": "code",
      "metadata": {
        "id": "Z9CaaCetVGue"
      },
      "source": [
        "import multiprocessing\n",
        "from multiprocessing import pool\n",
        "\n",
        "def calc_it(a,b):\n",
        " \n",
        "  return sum(range(a,b+1))\n",
        "\n",
        "def do_it(n):\n",
        "  p = pool(4)\n",
        "  result = p.map(calc_it,n)\n",
        "  p.close()\n",
        "  p.join()\n",
        "  print(result)\n"
      ],
      "execution_count": 13,
      "outputs": []
    },
    {
      "cell_type": "code",
      "metadata": {
        "colab": {
          "base_uri": "https://localhost:8080/"
        },
        "id": "EqKoWxonZRiF",
        "outputId": "fd415707-d3ac-4817-a98c-7466f941f95f"
      },
      "source": [
        "import multiprocessing\n",
        "from multiprocessing import Pool\n",
        "from functools import partial\n",
        "\n",
        "def calc_it(a,b):\n",
        "   return sum(range(a,b+1))\n",
        "\n",
        "def do_it(n):\n",
        "  p = Pool(4)\n",
        "  func = partial(calc_it, 1)\n",
        "  result = p.map(func, [n])\n",
        "  p.close()\n",
        "  p.join()\n",
        "  strings = (str(integer) for integer in result)\n",
        "  a_string = \"\".join(strings)\n",
        "  an_integer = int(a_string) \n",
        "  print(an_integer)\n",
        "\n",
        "do_it(10)"
      ],
      "execution_count": 31,
      "outputs": [
        {
          "output_type": "stream",
          "text": [
            "55\n"
          ],
          "name": "stdout"
        }
      ]
    },
    {
      "cell_type": "code",
      "metadata": {
        "colab": {
          "base_uri": "https://localhost:8080/"
        },
        "id": "2I5e7xikZSp6",
        "outputId": "66917d65-da11-453c-d913-1c225450c565"
      },
      "source": [
        "def calc_it(a,b):\n",
        "  print('inside')\n",
        "  return sum(range(a,b+1))\n",
        "calc_it(1,4)"
      ],
      "execution_count": 26,
      "outputs": [
        {
          "output_type": "stream",
          "text": [
            "inside\n"
          ],
          "name": "stdout"
        },
        {
          "output_type": "execute_result",
          "data": {
            "text/plain": [
              "10"
            ]
          },
          "metadata": {
            "tags": []
          },
          "execution_count": 26
        }
      ]
    },
    {
      "cell_type": "code",
      "metadata": {
        "colab": {
          "base_uri": "https://localhost:8080/"
        },
        "id": "rEHKJEjvbTrf",
        "outputId": "a22017e8-7561-4d35-ed3f-70ba18196bb6"
      },
      "source": [
        "def f(a, b, c):\n",
        "    print(\"{} {} {}\".format(a, b, c))\n",
        "\n",
        "def main():\n",
        "    iterable = [1]\n",
        "    pool = multiprocessing.Pool()\n",
        "    a = \"hi\"\n",
        "    b = \"there\"\n",
        "    func = partial(f, a, b)\n",
        "    pool.map(func, iterable)\n",
        "    pool.close()\n",
        "    pool.join()\n",
        "\n",
        "if __name__ == \"__main__\":\n",
        "    main()"
      ],
      "execution_count": 23,
      "outputs": [
        {
          "output_type": "stream",
          "text": [
            "hi there 1\n"
          ],
          "name": "stdout"
        }
      ]
    },
    {
      "cell_type": "code",
      "metadata": {
        "id": "_Y13q2bQbkuD"
      },
      "source": [
        "import multiprocessing\n",
        "from multiprocessing import Pool\n",
        "from functools import partial\n",
        "\n",
        "def calc_it(a,b):\n",
        "   return sum(range(a,b+1))\n",
        "\n",
        "def do_it(n):\n",
        "  p = Pool(4)\n",
        "  func = partial(calc_it, 1)\n",
        "  result = p.map(func, [n])\n",
        "  p.close()\n",
        "  p.join()\n",
        "  return result[0]"
      ],
      "execution_count": null,
      "outputs": []
    }
  ]
}